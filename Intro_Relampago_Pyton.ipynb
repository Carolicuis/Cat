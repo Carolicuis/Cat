{
  "nbformat": 4,
  "nbformat_minor": 0,
  "metadata": {
    "colab": {
      "name": "Intro_Relampago_Pyton.ipynb",
      "provenance": [],
      "collapsed_sections": [],
      "include_colab_link": true
    },
    "kernelspec": {
      "name": "python3",
      "display_name": "Python 3"
    },
    "accelerator": "GPU"
  },
  "cells": [
    {
      "cell_type": "markdown",
      "metadata": {
        "id": "view-in-github",
        "colab_type": "text"
      },
      "source": [
        "<a href=\"https://colab.research.google.com/github/Carolicuis/Cat/blob/master/Intro_Relampago_Pyton.ipynb\" target=\"_parent\"><img src=\"https://colab.research.google.com/assets/colab-badge.svg\" alt=\"Open In Colab\"/></a>"
      ]
    },
    {
      "cell_type": "markdown",
      "metadata": {
        "id": "X1MwhzeM1QlK",
        "colab_type": "text"
      },
      "source": [
        "# ¿Qué es Programación?\n",
        "Es básicamente darle instrucciones a un computador para que las siga exactamente cómo se las especificamos"
      ]
    },
    {
      "cell_type": "code",
      "metadata": {
        "id": "ONDETXMStdkK",
        "colab_type": "code",
        "colab": {}
      },
      "source": [
        ""
      ],
      "execution_count": 0,
      "outputs": []
    },
    {
      "cell_type": "markdown",
      "metadata": {
        "id": "3b6v4IZ41r6x",
        "colab_type": "text"
      },
      "source": [
        "# ¿Qué es Python?\n",
        "Python en un lenguaje de programación de alto nivel, interpretado, orientado a objetos con semántica dinámica. Sus estructuras de datos, combinadas con su dinamismo para ser escrito y empleado, lo hace muy atractivo para ser la opción más empleada en desarrollo “rápido” de aplicaciones. Es simple, fácil de aprender, su sintaxis lo hace muy fácil de leer y así reduce el costo de mantenimiento de aplicaciones desarrolladas en python.\n",
        "\n",
        "[Python’s “Executive Summary” ](https://www.python.org/doc/essays/blurb/)"
      ]
    },
    {
      "cell_type": "code",
      "metadata": {
        "id": "STaelZCF1-WK",
        "colab_type": "code",
        "colab": {}
      },
      "source": [
        "import this"
      ],
      "execution_count": 0,
      "outputs": []
    },
    {
      "cell_type": "markdown",
      "metadata": {
        "id": "WR-op5xJ2sha",
        "colab_type": "text"
      },
      "source": [
        "# Nuestro Primer Programa"
      ]
    },
    {
      "cell_type": "code",
      "metadata": {
        "id": "tnsqsDDj2x-H",
        "colab_type": "code",
        "colab": {}
      },
      "source": [
        "print('Hola Mundo!')"
      ],
      "execution_count": 0,
      "outputs": []
    },
    {
      "cell_type": "markdown",
      "metadata": {
        "id": "YIuhJVe54IqF",
        "colab_type": "text"
      },
      "source": [
        "# Tipos de Datos\n",
        "\n",
        "\n",
        "*   Int (número entero)\n",
        "*   Float (número con punto decimal)\n",
        "*   Boolean (Verdadero o Falso)\n",
        "*   String (Cadena de caracteres)\n",
        "\n",
        "\n"
      ]
    },
    {
      "cell_type": "code",
      "metadata": {
        "id": "NupTETHY4lyK",
        "colab_type": "code",
        "colab": {}
      },
      "source": [
        "my_int = 5\n",
        "my_float = 4.66\n",
        "my_boolean = False\n",
        "my_string = \"Stephanie\"\n",
        "\n",
        "print(5)\n",
        "print(4.66)\n",
        "print(False)\n",
        "print(\"Stephanie\")"
      ],
      "execution_count": 0,
      "outputs": []
    },
    {
      "cell_type": "code",
      "metadata": {
        "id": "xU1MOp1Lji44",
        "colab_type": "code",
        "colab": {}
      },
      "source": [
        "#Ejercitemos un poco \n",
        "print(4+4)\n"
      ],
      "execution_count": 0,
      "outputs": []
    },
    {
      "cell_type": "markdown",
      "metadata": {
        "id": "q3nlmhiT9MzL",
        "colab_type": "text"
      },
      "source": [
        "# Variables\n",
        "Es un pequeño lugar en la memoria de nuestra computadora donde\n",
        "guardamos valores que \n",
        "usaremos para nuestros\n",
        "programas.\n"
      ]
    },
    {
      "cell_type": "code",
      "metadata": {
        "id": "gD8jn3ny9F5i",
        "colab_type": "code",
        "colab": {}
      },
      "source": [
        "my_int = 5\n",
        "my_float = 4.66\n",
        "my_boolean = False\n",
        "my_string = \"Stephanie\"\n",
        "\n",
        "print(my_int)\n",
        "print(my_float)\n",
        "print(my_boolean)\n",
        "print(my_string)"
      ],
      "execution_count": 0,
      "outputs": []
    },
    {
      "cell_type": "code",
      "metadata": {
        "id": "uIJdOQNB9r5p",
        "colab_type": "code",
        "colab": {}
      },
      "source": [
        "num_a = 3\n",
        "num_b = 10\n",
        "suma = num_a + num_b \n",
        "print (suma)"
      ],
      "execution_count": 0,
      "outputs": []
    },
    {
      "cell_type": "code",
      "metadata": {
        "id": "2TOiuwFQkRdh",
        "colab_type": "code",
        "colab": {}
      },
      "source": [
        "#Tambien podemos pedir valores al usuario\n",
        "nombre = input(\"Cual es tu Nombre? \")\n",
        "print(\"Hola! {0}, vamos a aprender un poco de programación en python (:\".format(nombre))"
      ],
      "execution_count": 0,
      "outputs": []
    },
    {
      "cell_type": "markdown",
      "metadata": {
        "id": "wOB9U1lHaBgK",
        "colab_type": "text"
      },
      "source": [
        "\n",
        "\n",
        "\n",
        "## String\n",
        "La clase String tiene muchos métodos súper útiles que ayudarán en la limpieza o transformación de datos"
      ]
    },
    {
      "cell_type": "code",
      "metadata": {
        "id": "3LbIlenDaURa",
        "colab_type": "code",
        "colab": {}
      },
      "source": [
        "#Podemos reemplazar caracteres\n",
        "word = 'pensamiento'\n",
        "\n",
        "\n",
        "#reemplazando caracteres\n",
        "n_word = word.replace('e','u')\n",
        "print(n_word)"
      ],
      "execution_count": 0,
      "outputs": []
    },
    {
      "cell_type": "code",
      "metadata": {
        "id": "Oj-MqtyMfYJ9",
        "colab_type": "code",
        "colab": {}
      },
      "source": [
        "#partiendo strings\n",
        "print( list(\"word\") )\n",
        "explode = list(\"word\")"
      ],
      "execution_count": 0,
      "outputs": []
    },
    {
      "cell_type": "code",
      "metadata": {
        "id": "3XCqb0VdBppX",
        "colab_type": "code",
        "colab": {}
      },
      "source": [
        "#extrayendo sub-cadenas\n",
        "#[<start>:<end>:<step>]\n",
        "print(\"word\"[3:6:])"
      ],
      "execution_count": 0,
      "outputs": []
    },
    {
      "cell_type": "code",
      "metadata": {
        "id": "CxIlsDNZBpwr",
        "colab_type": "code",
        "colab": {}
      },
      "source": [
        "#removiendo caracteres al inicio y/o final\n",
        "phrase = \"   Hola Mundo, Hola   \"\n",
        "print(phrase.strip())"
      ],
      "execution_count": 0,
      "outputs": []
    },
    {
      "cell_type": "code",
      "metadata": {
        "id": "6Azc0D9fBv7M",
        "colab_type": "code",
        "colab": {}
      },
      "source": [
        "#uniendo string\n",
        "implode = ''.join(explode)\n",
        "print(implode)"
      ],
      "execution_count": 0,
      "outputs": []
    },
    {
      "cell_type": "markdown",
      "metadata": {
        "id": "JbNxme3cOFK6",
        "colab_type": "text"
      },
      "source": [
        "# Estructuras\n",
        "Nos permiten guardar valores como colecciones.\n",
        "Tenemos 2 muy importantes:\n",
        "\n",
        "\n",
        "*   Listas\n",
        "*   Diccionarios\n",
        "\n",
        "\n",
        "\n",
        "\n",
        "\n",
        "\n"
      ]
    },
    {
      "cell_type": "markdown",
      "metadata": {
        "id": "HEJlZku7QcRm",
        "colab_type": "text"
      },
      "source": [
        "## Listas\n",
        "Nos permiten guardar valores como. Vamos a encontrar que en muchos lugares se les llaman arreglos o arrays, el primer elemento tiene como indice 0 (cero)\n",
        "\n",
        " opciones = [2,10,55]"
      ]
    },
    {
      "cell_type": "code",
      "metadata": {
        "id": "VrbQXGEaPnmY",
        "colab_type": "code",
        "colab": {}
      },
      "source": [
        "#Construyamos una lista\n",
        "opciones = [2,10,55]\n",
        "print(opciones)"
      ],
      "execution_count": 0,
      "outputs": []
    },
    {
      "cell_type": "code",
      "metadata": {
        "id": "xXfDu-1EVdnm",
        "colab_type": "code",
        "colab": {}
      },
      "source": [
        "#Podemos agregar elementos\n",
        "opciones.append(7)\n",
        "print(opciones)"
      ],
      "execution_count": 0,
      "outputs": []
    },
    {
      "cell_type": "code",
      "metadata": {
        "id": "mRPQd9SMVdq6",
        "colab_type": "code",
        "colab": {}
      },
      "source": [
        "#Podemos cambiar el valor de cierto elemento\n",
        "opciones[2] = 455\n",
        "print(opciones)"
      ],
      "execution_count": 0,
      "outputs": []
    },
    {
      "cell_type": "code",
      "metadata": {
        "id": "4YG5197sVdti",
        "colab_type": "code",
        "colab": {}
      },
      "source": [
        "#Tambien puedo obtener la longitud o tamaño de la lista\n",
        "print(len(opciones))"
      ],
      "execution_count": 0,
      "outputs": []
    },
    {
      "cell_type": "markdown",
      "metadata": {
        "id": "zrmvRbKuQoOM",
        "colab_type": "text"
      },
      "source": [
        "## Diccionarios\n",
        "Son listas/arreglos bidemensionales. Se componen por pares de clave -> valor.\n",
        "Las claves siempre siempre tienen que ser un string.\n",
        "\n",
        "```\n",
        "menu_semanal = {\"lunes\" :\"dieta de pollo\", \"martes\":\"mechada\", \"miercoles\":\"pescado\"}\n",
        "```"
      ]
    },
    {
      "cell_type": "code",
      "metadata": {
        "id": "4Rv-L2BGQ_iB",
        "colab_type": "code",
        "colab": {}
      },
      "source": [
        "#construyamos un diccionario\n",
        "print(\"Creo mi diccionario....\")\n",
        "datos_personales = {\"nombre\" : \"Stephanie\", \"apellido\": \"Frias\", \"edad\": 35}\n",
        "print(datos_personales)"
      ],
      "execution_count": 0,
      "outputs": []
    },
    {
      "cell_type": "code",
      "metadata": {
        "id": "8VcwhxWSB-k1",
        "colab_type": "code",
        "colab": {}
      },
      "source": [
        "#Otra Forma de imprimir valores\n",
        "print(\"Obtengo valores por llave y los imprimo...\")\n",
        "print (\"Nombre: \", datos_personales[\"nombre\"])"
      ],
      "execution_count": 0,
      "outputs": []
    },
    {
      "cell_type": "code",
      "metadata": {
        "id": "Jl6qhDXYB-zr",
        "colab_type": "code",
        "colab": {}
      },
      "source": [
        "#Y Otra forma de imprimir\n",
        "print(\"Obtengo valores por llave y los imprimo version 2...\")\n",
        "print(\"Nombre: {0}\".format(datos_personales[\"nombre\"]))"
      ],
      "execution_count": 0,
      "outputs": []
    },
    {
      "cell_type": "code",
      "metadata": {
        "id": "metqZBefB-7g",
        "colab_type": "code",
        "colab": {}
      },
      "source": [
        "#Tambien podemos agregar mas pares o entradas al diccionario\n",
        "print(\"Le agrego una entrada e imprimo...\")\n",
        "datos_personales[\"nacionalidad\"] = \"Peruana\"\n",
        "print(datos_personales)"
      ],
      "execution_count": 0,
      "outputs": []
    },
    {
      "cell_type": "code",
      "metadata": {
        "id": "BfLHmyJ4B_Bt",
        "colab_type": "code",
        "colab": {}
      },
      "source": [
        "#Podemos obtener sólo las llaves o los valores\n",
        "print(\"Obteniendo llaves, valores...\")\n",
        "print(\"Llaves: \", datos_personales.keys())\n",
        "print(\"Valores: \",datos_personales.values())"
      ],
      "execution_count": 0,
      "outputs": []
    },
    {
      "cell_type": "markdown",
      "metadata": {
        "id": "ba0y-Gid-B0P",
        "colab_type": "text"
      },
      "source": [
        "# Condicionales\n",
        "\n",
        "Nos ayudan a programar flujos de decisión que dependerán de alguna condición\n",
        "\n",
        "*numero = 10*\n",
        "\n",
        "si el numero es igual o mayor a 10\n",
        "> imprimir \"Es mayor a 10\"\n",
        "\n",
        "de lo contrario, si el numero es mayor a 5\n",
        "> imprimir \"Es mayor a 5\"\n",
        "\n",
        "de lo contrario\n",
        "> imprimir \"Es menor a 5\"\n"
      ]
    },
    {
      "cell_type": "code",
      "metadata": {
        "id": "lcMRrd2y-nsR",
        "colab_type": "code",
        "colab": {}
      },
      "source": [
        "numero = 11\n",
        "if numero >= 10:\n",
        "  print(\"Es mayor o igual a 10\")\n",
        "elif numero > 5:\n",
        "  print(\"Es mayor a 5\")\n",
        "else:\n",
        "  print(\"Es menor o igual a 5\")\n"
      ],
      "execution_count": 0,
      "outputs": []
    },
    {
      "cell_type": "markdown",
      "metadata": {
        "id": "OqehcgWRVhbk",
        "colab_type": "text"
      },
      "source": [
        "# Control del Flujo: Bucles\n",
        "Nos permite agrupan líneas de código o instrucciones a repetirse bajo cierta condición\n",
        "\n",
        "## Bucle While \n",
        "Mientras que cumpla la condición, seguir las instrucciones\n",
        "\n",
        "*contador = 5*\n",
        "\n",
        "\n",
        "Mientras el contador > 0\n",
        "\n",
        ">imprimir valor del contador\n",
        "\n",
        ">disminuir el contador en 1\n",
        "\n"
      ]
    },
    {
      "cell_type": "code",
      "metadata": {
        "id": "8gbXdl9OXY0l",
        "colab_type": "code",
        "colab": {}
      },
      "source": [
        "#While loop\n",
        "contador = 5\n",
        "while (contador > 0):\n",
        "  print(contador)\n",
        "  contador = contador - 1"
      ],
      "execution_count": 0,
      "outputs": []
    },
    {
      "cell_type": "markdown",
      "metadata": {
        "id": "6TkOTd4EXhnk",
        "colab_type": "text"
      },
      "source": [
        "## Bucle For\n",
        "Por cada item en el rango, seguir las instrucciones!"
      ]
    },
    {
      "cell_type": "code",
      "metadata": {
        "id": "eZxUW3aCXoYI",
        "colab_type": "code",
        "colab": {}
      },
      "source": [
        "# la variable contador puede tener cualquier otro nombre\n",
        "for contador in range(1,10):\n",
        "  print(contador)\n"
      ],
      "execution_count": 0,
      "outputs": []
    },
    {
      "cell_type": "code",
      "metadata": {
        "id": "sdrw-GY7CW4d",
        "colab_type": "code",
        "colab": {}
      },
      "source": [
        "print(\"Usemos el for para iterar sobre strings!\")\n",
        "for char in \"Hello World!\":\n",
        "  print(char)"
      ],
      "execution_count": 0,
      "outputs": []
    },
    {
      "cell_type": "code",
      "metadata": {
        "id": "rddLgjhhCW8k",
        "colab_type": "code",
        "colab": {}
      },
      "source": [
        "print (\"Ahora usemos el for para iterar sobre listas\")  \n",
        "frutas = [\"manzana\", \"sandia\", \"pomelo\",\"coco\"]\n",
        "for fruta in frutas:\n",
        "  print(fruta)"
      ],
      "execution_count": 0,
      "outputs": []
    },
    {
      "cell_type": "code",
      "metadata": {
        "id": "QW2_gT7cD3zS",
        "colab_type": "code",
        "colab": {}
      },
      "source": [
        "#EJERCICIO: Imprimir los numeros impares entre 1 y un numero tomado por input(parametro)"
      ],
      "execution_count": 0,
      "outputs": []
    },
    {
      "cell_type": "markdown",
      "metadata": {
        "id": "jJEiwZwdCu-a",
        "colab_type": "text"
      },
      "source": [
        "# Funciones"
      ]
    },
    {
      "cell_type": "code",
      "metadata": {
        "id": "-0nKldDwC92B",
        "colab_type": "code",
        "colab": {}
      },
      "source": [
        "def imprime_saludo(nombre):\n",
        "  print('Hola, {}!'.format(nombre))\n",
        "\n",
        "imprime_saludo(\"Stephanie\") "
      ],
      "execution_count": 0,
      "outputs": []
    },
    {
      "cell_type": "code",
      "metadata": {
        "id": "wYo7zDYxDB_y",
        "colab_type": "code",
        "colab": {}
      },
      "source": [
        "#EJERCICIO: Define una funcion que tome 2 numeros e imprima el mayor"
      ],
      "execution_count": 0,
      "outputs": []
    },
    {
      "cell_type": "markdown",
      "metadata": {
        "id": "l3WfPIubDRXj",
        "colab_type": "text"
      },
      "source": [
        "# Funciones Anónimas o Lambda"
      ]
    },
    {
      "cell_type": "code",
      "metadata": {
        "id": "_IuIAYxADXhC",
        "colab_type": "code",
        "colab": {}
      },
      "source": [
        "'''\n",
        "def triple(x):\n",
        "  return x * x *x \n",
        "'''\n",
        "\n",
        "triple = lambda x : x * x * x\n",
        "print(triple(2))"
      ],
      "execution_count": 0,
      "outputs": []
    },
    {
      "cell_type": "code",
      "metadata": {
        "id": "23_M8qFkDhDI",
        "colab_type": "code",
        "colab": {}
      },
      "source": [
        "def isEven(x):\n",
        "  for n in range(2,x):\n",
        "    if x%n==0:\n",
        "      return True\n",
        "    else:\n",
        "      return False\n",
        "\n",
        "fltrObj=filter(isEven, range(10))\n",
        "print ('Numero primos entre 1-10:', list(fltrObj))"
      ],
      "execution_count": 0,
      "outputs": []
    },
    {
      "cell_type": "markdown",
      "metadata": {
        "id": "MohNjSATgNGu",
        "colab_type": "text"
      },
      "source": [
        "# Recursos\n",
        "\n",
        "* [Más Ejercicios](http://bit.ly/python-extra)\n",
        "* https://realpython.com\n",
        "* https://www.pythonforbeginners.com\n",
        "* [Tutorial de Python](http://docs.python.org.ar/tutorial/)\n",
        "* [The Hitchhiker's Guide to Python](http://docs.python-guide.org/en/latest/)\n",
        "* https://www.hackerrank.com/domains/python\n",
        "* https://www.hackerrank.com/domains/tutorials/30-days-of-code\n",
        "* https://www.sololearn.com/Course/Python/\n",
        "* https://librosweb.es/libro/python/\n",
        "* [Pandas 101](https://code.likeagirl.io/an%C3%A1lisis-y-visualizaci%C3%B3n-de-datos-con-pandas-matplotlib-85ee4d7b4cad)\n",
        "* [Transforming Code into Beautiful, Idiomatic Python](https://github.com/JeffPaine/beautiful_idiomatic_python)\n",
        "\n",
        "\n",
        "\n",
        "\n"
      ]
    },
    {
      "cell_type": "markdown",
      "metadata": {
        "id": "SbIkNPJQjw7h",
        "colab_type": "text"
      },
      "source": [
        "**Contacto> Stephanie Frias Zamalloa /` @_stephfz_ `/ stephfz@gmail.com**"
      ]
    }
  ]
}